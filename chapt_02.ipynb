{
 "cells": [
  {
   "cell_type": "markdown",
   "metadata": {},
   "source": [
    "## Chapter 2: End-to-End Machine Learning Project"
   ]
  },
  {
   "cell_type": "markdown",
   "metadata": {},
   "source": [
    "1. Try a Support Vector Machine regressor (sklearn.svm.SVR) with various hyperparameters, such as kernel=\"linear\" (with various values for the C hyperparameter) or kernel=\"rbf\" (with various values for the C and gamma hyperparameters). Don't worry about what these hyperparameters mean for now. How does the best SVR predictor perform?\n",
    "\n",
    "2. Try replacing GridSearchCV with RandomizedSearchCV\n",
    "\n",
    "3. Try adding a transformer in the preparation pipeline to select only the most important attributes\n",
    "\n",
    "4. Try creating a single pipeline that does the full data preparation plus the final prediction\n",
    "\n",
    "5. Automatically explore some preparation options using GridSearchCV"
   ]
  },
  {
   "cell_type": "code",
   "execution_count": 1,
   "metadata": {},
   "outputs": [],
   "source": [
    "# Solution to Question 1:\n",
    "from sklearn.svm import SVR\n",
    "\n",
    "svr_reg = SVR(kernel=\"linear\", C=0.5)"
   ]
  },
  {
   "cell_type": "code",
   "execution_count": null,
   "metadata": {},
   "outputs": [],
   "source": []
  }
 ],
 "metadata": {
  "interpreter": {
   "hash": "b177690b9094cb131bbb7293b7a60f645346051fe4fe40b55342ff4e3e8307b5"
  },
  "kernelspec": {
   "display_name": "Python 3.9.1 64-bit ('my_env': venv)",
   "language": "python",
   "name": "python3"
  },
  "language_info": {
   "codemirror_mode": {
    "name": "ipython",
    "version": 3
   },
   "file_extension": ".py",
   "mimetype": "text/x-python",
   "name": "python",
   "nbconvert_exporter": "python",
   "pygments_lexer": "ipython3",
   "version": "3.9.1"
  },
  "orig_nbformat": 4
 },
 "nbformat": 4,
 "nbformat_minor": 2
}
