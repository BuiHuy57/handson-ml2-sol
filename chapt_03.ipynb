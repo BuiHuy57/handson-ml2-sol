{
 "cells": [
  {
   "cell_type": "markdown",
   "metadata": {},
   "source": [
    "## Chapter 3: Classification"
   ]
  },
  {
   "cell_type": "markdown",
   "metadata": {},
   "source": [
    "1. Try to build a classifier for the MNIST dataset that achieves over 97% accuracy on the test set. Hint: The KNeighborsClassifier works quite well for this task; you just need to find good hyperparameter values (try a grid search on the weights and n_neighbors hyperparameters)\n",
    "\n",
    "2. Write a function that can shift an MNIST image in any direction (left, right, up, or down) by one pixel (You can use the shift() function from the scipy.ndimage.interpolation module. For example, shift(image, [2,1], cval=0) shifts the image two pixels down and one pixel to the right). Then, for each image in the training set, create four shifted copies (one per direction) and add them to the training set. Finally, train your best model on this expanded training set and measure its accuracy on the test set. You should observe that your model performs even better now! This technique of artificially growing the training set is called data augmentation or training set expansion.\n",
    "\n",
    "3. Tackle the Titanic dataset. A great place to start is on Kaggle.\n",
    "\n",
    "4. Build a spam classifier (a more challenging exercise):\n",
    "    - Download examples of spam and ham from Apache SpamAssassin's public datasets\n",
    "    - Unzip the datasets and familiarize yourself with the data format.\n",
    "    - Split the datasets into a training and a test set.\n",
    "    - Write a data preparation pipeline to convert each email into a feature vector. Your preparation pipeline should transform an email into a (sparse) vector that indicates the presence or absence of each possible word. For example, if all emails only contain four words, \"Hello\", \"how\", \"are\", \"you\", then the email \"Hello you Hello Hello you\" would be converted into a vector [1, 0, 0, 1] (meaning [\"Hello\" is present, \"how\" is absent, \"are\" is absent, \"you\" is present]), or [3, 0, 0, 2] if you prefer to count the number of occurrences of each word.\n",
    "\n",
    "    You may want to add hyperparameters to your preparation pipeline to control whether or not to strip of email headers, convert each email to lowercase, remove punctuation, replace all URLs with \"URL\", replace all numbers with \"NUMBER\" or even perform stemming (i.e., trim off word endings; there are Python libraries available to do this).\n",
    "\n",
    "    Finally, try out several classifiers and see if you can build a great spam classifier, with both high recall and high precision."
   ]
  },
  {
   "cell_type": "code",
   "execution_count": null,
   "metadata": {},
   "outputs": [],
   "source": []
  }
 ],
 "metadata": {
  "language_info": {
   "name": "python"
  },
  "orig_nbformat": 4
 },
 "nbformat": 4,
 "nbformat_minor": 2
}
