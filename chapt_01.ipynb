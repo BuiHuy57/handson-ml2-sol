{
 "cells": [
  {
   "cell_type": "markdown",
   "metadata": {},
   "source": [
    "# Chapter One - The Machine Learning Landscape"
   ]
  },
  {
   "cell_type": "markdown",
   "metadata": {},
   "source": [
    "## Execise Questions:\n",
    "\n",
    "1. How would you define Machine Learning?\n",
    "\n",
    "2. Can you name four types of problems where it shines?\n",
    "\n",
    "3. What is a labeled training set?\n",
    "\n",
    "4. What are the two most common supervised tasks?\n",
    "\n",
    "5. Can you name four common unsupervised tasks?\n",
    "\n",
    "6. What type of Machine Learning algorithm would you use to allow a robot to walk in various unknown terrains?\n",
    "\n",
    "7. What type of algorithm would you use to segment your customers into multiple groups?\n",
    "\n",
    "8. Would you frame the problem of spam detection as a supervised learning problem or an unsupervised learning problem?\n",
    "\n",
    "9. What is an online learning system?\n",
    "\n",
    "10. What is out-of-core learning?\n",
    "\n",
    "11. What type of learning algorithm relies on a similarity measure to make predictions?\n",
    "\n",
    "12. What is the difference between a model parameter and a learning algorithm's hyperparameter?\n",
    "\n",
    "13. What do model-based learning algorithms search for? What is the most common strategy they use to succeed? How do they make predictions?\n",
    "\n",
    "14. Can you name four of the main challenges in Machine Learning?\n",
    "\n",
    "15. If your model performs great on the training data but generalizes poorly to new instances, what is happening? Can you name three possible solutions?\n",
    "\n",
    "16. What is a test set, and why would you want to use it?\n",
    "\n",
    "17. What is the purpose of a validation set?\n",
    "\n",
    "18. What is the train-dev set, when do you need it, and how do you use it?\n",
    "\n",
    "19. What can go wrong if you tune hyperparameters during the test set?"
   ]
  },
  {
   "cell_type": "markdown",
   "metadata": {},
   "source": [
    "## Exercise Solutions\n",
    "\n",
    "1. Machine Learning is a way for machines to learn certain complex tasks such as regression and classification to predict values through algorithms and training algorithms.\n",
    "\n",
    "2. Classification problems, predicting values, computer vision and language processing.\n",
    "\n",
    "3. A labelled training set is a set which training instances that have labels associated with them. An example would be pictures with labels describing what the image is (an image of a bee with a label like \"Bee\")\n",
    "\n",
    "4. Classification and Regression are the two most common supervised tasks.\n",
    "\n",
    "5. Clustering, Anomaly (and novelty) Detection, Visualization and dimensionality reduction, and Association rule learning.\n",
    "\n",
    "6. Reinforcement Learning would allow the robot to learn new terrains on its own.\n",
    "\n",
    "7. Unsupervised clustering algorithms allow machines to learn this type of problem.\n",
    "\n",
    "8. It would be a supervised problem. This is a classification problem (classifying whether an email is spam or not), and thus will require labeled datasets which are supervised problems.\n",
    "\n",
    "9. An online learning system is a system that learns in a live environment by constantly taking data from online databases and learning from that data. This keeps the system constantly up-to-date but requires constant training.\n",
    "\n",
    "10. Out-of-core learning is \n",
    "\n",
    "11. IDK\n",
    "\n",
    "12. \n",
    "\n",
    "13. \n",
    "\n",
    "14. Overfitting (machine fits training set too well and can't generalize for real-world problems). Underfitting (model doesn't fit training set well enough and thus can't make accurate predictions on test set or real world problems). \n",
    "\n",
    "15. Most likely the model is overfitting the training set, and therefore can't generalize to new training instances introduced in the real world. Three solutions are: \n",
    "    1. Regularize: Reduce certain hyperparameters in your model to help your model generalize to new instances.\n",
    "    2. Provide a more training instances to help your model generalize.\n",
    "    3. Try a new algorithm lol.\n",
    "\n",
    "\n",
    "16. A test set is a set of training instances separate from your training set. The model doesn't train on this test set and is only exposed to it once the user is happy with the results from fitting the model to the training set. This is used for testing the model to see if its predictions are accurate.\n",
    "\n",
    "17. A validation set is a sort of intermediate step between the training set and the test set. \n",
    "\n",
    "18. No clue\n",
    "\n",
    "19. You risk skewing the predictions in favour of overfitting the test set and thus worsening the performance of the model in real-world situations.\n"
   ]
  },
  {
   "cell_type": "markdown",
   "metadata": {},
   "source": []
  }
 ],
 "metadata": {
  "language_info": {
   "name": "python"
  },
  "orig_nbformat": 4
 },
 "nbformat": 4,
 "nbformat_minor": 2
}
